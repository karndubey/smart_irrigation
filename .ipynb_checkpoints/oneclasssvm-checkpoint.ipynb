{
 "cells": [
  {
   "cell_type": "code",
   "execution_count": 143,
   "metadata": {},
   "outputs": [],
   "source": [
    "import numpy as np\n",
    "import pandas as pd\n",
    "from sklearn import svm\n",
    "from sklearn.model_selection import train_test_split\n",
    "import json\n"
   ]
  },
  {
   "cell_type": "code",
   "execution_count": null,
   "metadata": {},
   "outputs": [],
   "source": [
    "\n"
   ]
  },
  {
   "cell_type": "code",
   "execution_count": 144,
   "metadata": {},
   "outputs": [],
   "source": [
    "def oneClassSvm():\n",
    "    X =pd.read_csv('feeds.csv')\n",
    "    X=X.drop(columns=['created_at','entry_id','field1'])\n",
    "    xx, yy = np.meshgrid(np.linspace(-3, 3, 500), np.linspace(-5, 5, 500))\n",
    "    # Generate train data\n",
    "    \n",
    "    X=X[np.isfinite(X['field3'])]\n",
    "    for i in range(118,len(X)):\n",
    "        j=X['field2'][i]\n",
    "        j=j.partition('\\r')\n",
    "        j=int(j[0])\n",
    "        X['field2'][i]=j\n",
    "\n",
    "#print(isinstance(X['field2'][624],str))\n",
    "    for i in range(118,len(X)+118):\n",
    "        if (isinstance(X['field2'][i],str)):\n",
    "            j=X['field2'][i]\n",
    "            #print(j,\" \",i)\n",
    "            j=j.partition('\\r')\n",
    "            #print(j[0])\n",
    "            X['field2'][i]=int(j[0])\n",
    "    Y=X['field4']\n",
    "    X=X.drop(columns=['field4'])\n",
    "    X_train,X_test,Y_train,Y_test=train_test_split(X, Y, test_size=0.2, random_state=42)\n",
    "    clf = svm.OneClassSVM(nu=0.1, kernel=\"rbf\", gamma=0.1)\n",
    "    clf.fit(X_train)\n",
    "    #X_test=np.reshape(X_test,[-1,1])\n",
    "    y_pred_train = clf.predict(X_train)\n",
    "    y_pred_test = clf.predict(X_test)\n",
    "    #y_pred_outliers = clf.predict(X_outliers)\n",
    "    n_error_train = y_pred_train[y_pred_train == -1].size\n",
    "    n_error_test = y_pred_test[y_pred_test == -1].size\n",
    "    #n_error_outliers = y_pred_outliers[y_pred_outliers == 1].size\n",
    "\n",
    "    # plot the line, the points, and the nearest vectors to the plane\n",
    "    Z = clf.decision_function(np.c_[xx.ravel(), yy.ravel()])\n",
    "    Z = Z.reshape(xx.shape)\n",
    "    count=0\n",
    "    Y_test=np.array(Y_test)\n",
    "    for i in range(len(y_pred_test)):\n",
    "        if(Y_test[i]==y_pred_test[i]):\n",
    "            count=1+count\n",
    "            #print(count)\n",
    "    #print((count*100)/len(Y_test))\n",
    "    return clf"
   ]
  },
  {
   "cell_type": "code",
   "execution_count": 149,
   "metadata": {},
   "outputs": [],
   "source": [
    "def getresult(list):\n",
    "    d=json.loads(soil_data.text)\n",
    "    d=d['feeds']\n",
    "    l=[]\n",
    "    for i in d:\n",
    "        l.append([int(i['field2']),float(i['field3'])])   \n",
    "    df = pd.DataFrame(columns=['fild2','field3'])\n",
    "    j=0\n",
    "    for i in l:\n",
    "        df.loc[j]=i;\n",
    "        j+=1\n",
    "    #print(df)\n",
    "    clf= oneClassSvm()\n",
    "    result=clf.predict(df)\n",
    "    return result"
   ]
  },
  {
   "cell_type": "code",
   "execution_count": null,
   "metadata": {},
   "outputs": [],
   "source": []
  },
  {
   "cell_type": "code",
   "execution_count": 150,
   "metadata": {},
   "outputs": [],
   "source": []
  },
  {
   "cell_type": "code",
   "execution_count": 151,
   "metadata": {},
   "outputs": [
    {
     "name": "stderr",
     "output_type": "stream",
     "text": [
      "/usr/local/lib/python2.7/dist-packages/ipykernel_launcher.py:12: SettingWithCopyWarning: \n",
      "A value is trying to be set on a copy of a slice from a DataFrame\n",
      "\n",
      "See the caveats in the documentation: http://pandas.pydata.org/pandas-docs/stable/indexing.html#indexing-view-versus-copy\n",
      "  if sys.path[0] == '':\n",
      "/usr/local/lib/python2.7/dist-packages/ipykernel_launcher.py:21: SettingWithCopyWarning: \n",
      "A value is trying to be set on a copy of a slice from a DataFrame\n",
      "\n",
      "See the caveats in the documentation: http://pandas.pydata.org/pandas-docs/stable/indexing.html#indexing-view-versus-copy\n"
     ]
    },
    {
     "data": {
      "text/plain": [
       "'[ 1  1  1  1 -1 -1 -1 -1  1 -1  1  1  1  1  1  1  1  1  1 -1  1  1  1  1\\n -1  1  1  1  1  1  1  1  1  1  1  1  1  1  1  1  1  1  1  1  1  1  1  1\\n  1  1  1  1  1  1  1  1  1  1  1  1  1  1  1  1  1  1  1  1  1  1  1  1\\n  1  1  1  1  1  1  1  1  1  1  1  1  1  1 -1  1  1  1  1  1  1  1  1  1\\n  1  1  1  1  1  1  1  1  1  1  1  1  1  1  1  1  1  1  1  1  1  1  1  1\\n  1  1  1  1  1  1  1  1  1  1  1  1  1  1  1  1  1  1  1  1  1  1  1  1\\n  1  1  1  1  1  1  1  1  1  1  1  1  1  1  1  1  1  1  1  1  1  1  1  1\\n  1  1  1  1  1  1  1  1  1  1  1  1  1  1  1  1  1  1  1  1  1  1  1 -1\\n  1  1  1  1  1  1 -1  1]'"
      ]
     },
     "execution_count": 151,
     "metadata": {},
     "output_type": "execute_result"
    }
   ],
   "source": []
  },
  {
   "cell_type": "code",
   "execution_count": 152,
   "metadata": {},
   "outputs": [],
   "source": [
    "def sensor_data()"
   ]
  },
  {
   "cell_type": "code",
   "execution_count": 156,
   "metadata": {},
   "outputs": [],
   "source": [
    "L=set(X['created_at'])"
   ]
  },
  {
   "cell_type": "code",
   "execution_count": null,
   "metadata": {},
   "outputs": [],
   "source": []
  },
  {
   "cell_type": "code",
   "execution_count": null,
   "metadata": {},
   "outputs": [],
   "source": []
  },
  {
   "cell_type": "code",
   "execution_count": null,
   "metadata": {},
   "outputs": [],
   "source": []
  },
  {
   "cell_type": "code",
   "execution_count": null,
   "metadata": {},
   "outputs": [],
   "source": []
  },
  {
   "cell_type": "code",
   "execution_count": null,
   "metadata": {},
   "outputs": [],
   "source": []
  },
  {
   "cell_type": "code",
   "execution_count": null,
   "metadata": {},
   "outputs": [],
   "source": []
  },
  {
   "cell_type": "code",
   "execution_count": null,
   "metadata": {},
   "outputs": [],
   "source": []
  }
 ],
 "metadata": {
  "kernelspec": {
   "display_name": "Python 2",
   "language": "python",
   "name": "python2"
  },
  "language_info": {
   "codemirror_mode": {
    "name": "ipython",
    "version": 2
   },
   "file_extension": ".py",
   "mimetype": "text/x-python",
   "name": "python",
   "nbconvert_exporter": "python",
   "pygments_lexer": "ipython2",
   "version": "2.7.12"
  }
 },
 "nbformat": 4,
 "nbformat_minor": 2
}
